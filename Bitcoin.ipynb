{
  "nbformat": 4,
  "nbformat_minor": 0,
  "metadata": {
    "colab": {
      "name": "Bitcoin.ipynb",
      "provenance": [],
      "collapsed_sections": [],
      "toc_visible": true,
      "mount_file_id": "1ROcRPPnUqQMBbs3I0gf72sQ2CkWy8YWl",
      "authorship_tag": "ABX9TyOb2JsqUl1hJoFzaRQkxzDB"
    },
    "kernelspec": {
      "name": "python3",
      "display_name": "Python 3"
    }
  },
  "cells": [
    {
      "cell_type": "code",
      "metadata": {
        "colab": {
          "base_uri": "https://localhost:8080/"
        },
        "id": "zJdx8A0wNaxU",
        "outputId": "349529ff-8b5a-4cac-9dda-2e75529dc406"
      },
      "source": [
        "from google.colab import drive\n",
        "drive.mount('/content/drive')"
      ],
      "execution_count": null,
      "outputs": [
        {
          "output_type": "stream",
          "text": [
            "Drive already mounted at /content/drive; to attempt to forcibly remount, call drive.mount(\"/content/drive\", force_remount=True).\n"
          ],
          "name": "stdout"
        }
      ]
    },
    {
      "cell_type": "code",
      "metadata": {
        "colab": {
          "base_uri": "https://localhost:8080/"
        },
        "id": "edLE2m08Nkiw",
        "outputId": "60864f01-536d-413e-9b3e-89b1b215acb9"
      },
      "source": [
        "!pip install kaggle"
      ],
      "execution_count": null,
      "outputs": [
        {
          "output_type": "stream",
          "text": [
            "Requirement already satisfied: kaggle in /usr/local/lib/python3.6/dist-packages (1.5.10)\n",
            "Requirement already satisfied: certifi in /usr/local/lib/python3.6/dist-packages (from kaggle) (2020.12.5)\n",
            "Requirement already satisfied: urllib3 in /usr/local/lib/python3.6/dist-packages (from kaggle) (1.24.3)\n",
            "Requirement already satisfied: six>=1.10 in /usr/local/lib/python3.6/dist-packages (from kaggle) (1.15.0)\n",
            "Requirement already satisfied: python-slugify in /usr/local/lib/python3.6/dist-packages (from kaggle) (4.0.1)\n",
            "Requirement already satisfied: python-dateutil in /usr/local/lib/python3.6/dist-packages (from kaggle) (2.8.1)\n",
            "Requirement already satisfied: tqdm in /usr/local/lib/python3.6/dist-packages (from kaggle) (4.41.1)\n",
            "Requirement already satisfied: requests in /usr/local/lib/python3.6/dist-packages (from kaggle) (2.23.0)\n",
            "Requirement already satisfied: text-unidecode>=1.3 in /usr/local/lib/python3.6/dist-packages (from python-slugify->kaggle) (1.3)\n",
            "Requirement already satisfied: idna<3,>=2.5 in /usr/local/lib/python3.6/dist-packages (from requests->kaggle) (2.10)\n",
            "Requirement already satisfied: chardet<4,>=3.0.2 in /usr/local/lib/python3.6/dist-packages (from requests->kaggle) (3.0.4)\n"
          ],
          "name": "stdout"
        }
      ]
    },
    {
      "cell_type": "code",
      "metadata": {
        "id": "o0qlpothNlOs"
      },
      "source": [
        "import os\n",
        "os.environ['KAGGLE_KEY']= # Use your own kaggle key\n",
        "os.environ['KAGGLE_USERNAME']=\"kipkuruimutai\""
      ],
      "execution_count": null,
      "outputs": []
    },
    {
      "cell_type": "code",
      "metadata": {
        "colab": {
          "base_uri": "https://localhost:8080/"
        },
        "id": "voDgN25YNoHs",
        "outputId": "7bd7281b-4f49-426f-af68-d74146877b08"
      },
      "source": [
        "!kaggle datasets list -s business"
      ],
      "execution_count": null,
      "outputs": [
        {
          "output_type": "stream",
          "text": [
            "Warning: Looks like you're using an outdated API Version, please consider updating (server 1.5.10 / client 1.5.4)\n",
            "ref                                                       title                                       size  lastUpdated          downloadCount  \n",
            "--------------------------------------------------------  -----------------------------------------  -----  -------------------  -------------  \n",
            "theworldbank/doing-business                               Doing Business                               2MB  2019-05-16 20:08:31            355  \n",
            "xvivancos/barcelona-data-sets                             Barcelona data sets                          1MB  2020-02-15 23:29:29          11405  \n",
            "gerosa/procon                                             Consumer Business Complaints in Brazil      76MB  2017-10-11 21:22:17           1324  \n",
            "census/business-and-industry-reports                      Business and Industry Reports                7MB  2017-10-17 23:21:56           2569  \n",
            "census/total-business-inventories-and-sales-data          Total Business Inventories and Sales Data   20KB  2019-12-06 09:13:53           3656  \n",
            "tylermorse/retail-business-sales-20172019                 Online Business Sales 2017-2019             11KB  2020-03-20 20:43:07           2010  \n",
            "andrewmvd/business-analyst-jobs                           Business Analyst Job Listings                4MB  2020-07-17 11:41:05            347  \n",
            "chicago/chicago-business-licenses-and-owners              Chicago Business Licenses and Owners        53MB  2019-12-07 00:25:41            619  \n",
            "jilkothari/business-courses-udemy-10k-courses             Business Courses - Udemy (10k courses)     702KB  2020-09-15 07:42:30            202  \n",
            "mpwolke/cusersmarildownloadsmaorizip                      Máori businesses - Statistics 2017-2018.    12KB  2019-08-22 20:59:15             87  \n",
            "gauravduttakiit/loan-defaulter                            Loan Defaulter                             112MB  2020-07-30 18:32:38            988  \n",
            "mirbektoktogaraev/should-this-loan-be-approved-or-denied  Should This Loan be Approved or Denied?     46MB  2020-03-17 23:36:35           1608  \n",
            "datafiniti/fast-food-restaurants                          Fast Food Restaurants Across America         4MB  2019-05-30 00:14:28           9467  \n",
            "datafiniti/hotel-reviews                                  Hotel Reviews                               13MB  2019-06-24 15:00:49          11958  \n",
            "datafiniti/pizza-restaurants-and-the-pizza-they-sell      Pizza Restaurants and the Pizza They Sell  865KB  2019-05-30 00:21:21          12420  \n",
            "andrewmvd/data-analyst-jobs                               Data Analyst Jobs                            2MB  2020-07-14 08:37:57           8015  \n",
            "andrewmvd/udemy-courses                                   Udemy Courses                              200KB  2020-05-17 00:01:42           4479  \n",
            "datafiniti/vegetarian-vegan-restaurants                   Vegetarian and Vegan Restaurants             1MB  2018-11-20 19:48:50           2812  \n",
            "eliasdabbas/bloomberg-business-articles-urls              Bloomberg Business Articles URLs             9MB  2020-03-31 15:05:46             36  \n",
            "benroshan/factors-affecting-campus-placement              Campus Recruitment                           5KB  2020-04-11 11:09:02          18061  \n"
          ],
          "name": "stdout"
        }
      ]
    },
    {
      "cell_type": "code",
      "metadata": {
        "colab": {
          "base_uri": "https://localhost:8080/"
        },
        "id": "5LJ0zaUTNrgL",
        "outputId": "16f85151-e4f9-4731-9256-76ec18775023"
      },
      "source": [
        "! kaggle datasets download mczielinski/bitcoin-historical-data\n",
        "from zipfile import ZipFile \n",
        "file_name = \"/content/bitcoin-historical-data.zip\"\n",
        "with ZipFile(file_name, 'r') as zip:                      # 'r' -> READ mode \n",
        "    zip.printdir() # print all the contents \n",
        "    zip.extractall()\n",
        "\n",
        "del zip\n",
        "\n",
        "!head -5 /content/bitstampUSD_1-min_data_2012-01-01_to_2020-12-31.csv"
      ],
      "execution_count": null,
      "outputs": [
        {
          "output_type": "stream",
          "text": [
            "bitcoin-historical-data.zip: Skipping, found more recently modified local copy (use --force to force download)\n",
            "File Name                                             Modified             Size\n",
            "bitstampUSD_1-min_data_2012-01-01_to_2020-12-31.csv 2021-01-04 01:55:36    306821981\n",
            "Timestamp,Open,High,Low,Close,Volume_(BTC),Volume_(Currency),Weighted_Price\n",
            "1325317920,4.39,4.39,4.39,4.39,0.45558087,2.0000000193,4.39\n",
            "1325317980,NaN,NaN,NaN,NaN,NaN,NaN,NaN\n",
            "1325318040,NaN,NaN,NaN,NaN,NaN,NaN,NaN\n",
            "1325318100,NaN,NaN,NaN,NaN,NaN,NaN,NaN\n"
          ],
          "name": "stdout"
        }
      ]
    },
    {
      "cell_type": "code",
      "metadata": {
        "colab": {
          "base_uri": "https://localhost:8080/",
          "height": 35
        },
        "id": "rCkRlDdLQDig",
        "outputId": "b3c85aa1-f5fc-4784-9501-1c0366deecf2"
      },
      "source": [
        "import shutil\n",
        "shutil.move(\"/content/bitstampUSD_1-min_data_2012-01-01_to_2020-12-31.csv\", \"/content/drive/MyDrive/Bitcoin\")"
      ],
      "execution_count": null,
      "outputs": [
        {
          "output_type": "execute_result",
          "data": {
            "application/vnd.google.colaboratory.intrinsic+json": {
              "type": "string"
            },
            "text/plain": [
              "'/content/drive/MyDrive/Bitcoin/bitstampUSD_1-min_data_2012-01-01_to_2020-12-31.csv'"
            ]
          },
          "metadata": {
            "tags": []
          },
          "execution_count": 19
        }
      ]
    },
    {
      "cell_type": "code",
      "metadata": {
        "colab": {
          "base_uri": "https://localhost:8080/"
        },
        "id": "c-GveHEvQnYj",
        "outputId": "d9a3053c-b749-4bd3-dbcb-9d790ba920fc"
      },
      "source": [
        "!head -10 /content/drive/MyDrive/Bitcoin/bitstampUSD_1-min_data_2012-01-01_to_2020-12-31.csv"
      ],
      "execution_count": 2,
      "outputs": [
        {
          "output_type": "stream",
          "text": [
            "Timestamp,Open,High,Low,Close,Volume_(BTC),Volume_(Currency),Weighted_Price\n",
            "1325317920,4.39,4.39,4.39,4.39,0.45558087,2.0000000193,4.39\n",
            "1325317980,NaN,NaN,NaN,NaN,NaN,NaN,NaN\n",
            "1325318040,NaN,NaN,NaN,NaN,NaN,NaN,NaN\n",
            "1325318100,NaN,NaN,NaN,NaN,NaN,NaN,NaN\n",
            "1325318160,NaN,NaN,NaN,NaN,NaN,NaN,NaN\n",
            "1325318220,NaN,NaN,NaN,NaN,NaN,NaN,NaN\n",
            "1325318280,NaN,NaN,NaN,NaN,NaN,NaN,NaN\n",
            "1325318340,NaN,NaN,NaN,NaN,NaN,NaN,NaN\n",
            "1325318400,NaN,NaN,NaN,NaN,NaN,NaN,NaN\n"
          ],
          "name": "stdout"
        }
      ]
    },
    {
      "cell_type": "code",
      "metadata": {
        "colab": {
          "base_uri": "https://localhost:8080/"
        },
        "id": "pFRky8uLZcQV",
        "outputId": "9f6a6704-b319-4f7c-ce72-39d3b6f0e3b3"
      },
      "source": [
        "!pip install pmdarima"
      ],
      "execution_count": 3,
      "outputs": [
        {
          "output_type": "stream",
          "text": [
            "Collecting pmdarima\n",
            "\u001b[?25l  Downloading https://files.pythonhosted.org/packages/c9/d7/61af1897449638822f97c8b43ef0c2fce2ec68a6cda9a43ebbbdd12b967c/pmdarima-1.8.0-cp36-cp36m-manylinux1_x86_64.whl (1.5MB)\n",
            "\u001b[K     |████████████████████████████████| 1.5MB 9.1MB/s \n",
            "\u001b[?25hRequirement already satisfied: pandas>=0.19 in /usr/local/lib/python3.6/dist-packages (from pmdarima) (1.1.5)\n",
            "Requirement already satisfied: numpy>=1.17.3 in /usr/local/lib/python3.6/dist-packages (from pmdarima) (1.19.5)\n",
            "Collecting Cython<0.29.18,>=0.29\n",
            "\u001b[?25l  Downloading https://files.pythonhosted.org/packages/e7/d7/510ddef0248f3e1e91f9cc7e31c0f35f8954d0af92c5c3fd4c853e859ebe/Cython-0.29.17-cp36-cp36m-manylinux1_x86_64.whl (2.1MB)\n",
            "\u001b[K     |████████████████████████████████| 2.1MB 29.2MB/s \n",
            "\u001b[?25hRequirement already satisfied: joblib>=0.11 in /usr/local/lib/python3.6/dist-packages (from pmdarima) (1.0.0)\n",
            "Requirement already satisfied: setuptools!=50.0.0,>=38.6.0 in /usr/local/lib/python3.6/dist-packages (from pmdarima) (51.1.1)\n",
            "Requirement already satisfied: scipy>=1.3.2 in /usr/local/lib/python3.6/dist-packages (from pmdarima) (1.4.1)\n",
            "Collecting statsmodels!=0.12.0,>=0.11\n",
            "\u001b[?25l  Downloading https://files.pythonhosted.org/packages/be/4c/9e2435ca6645d6bafa2b51bb11f0a365b28934a2ffe9d6e339d67130926d/statsmodels-0.12.1-cp36-cp36m-manylinux1_x86_64.whl (9.5MB)\n",
            "\u001b[K     |████████████████████████████████| 9.5MB 36.0MB/s \n",
            "\u001b[?25hRequirement already satisfied: scikit-learn>=0.22 in /usr/local/lib/python3.6/dist-packages (from pmdarima) (0.22.2.post1)\n",
            "Requirement already satisfied: urllib3 in /usr/local/lib/python3.6/dist-packages (from pmdarima) (1.24.3)\n",
            "Requirement already satisfied: python-dateutil>=2.7.3 in /usr/local/lib/python3.6/dist-packages (from pandas>=0.19->pmdarima) (2.8.1)\n",
            "Requirement already satisfied: pytz>=2017.2 in /usr/local/lib/python3.6/dist-packages (from pandas>=0.19->pmdarima) (2018.9)\n",
            "Requirement already satisfied: patsy>=0.5 in /usr/local/lib/python3.6/dist-packages (from statsmodels!=0.12.0,>=0.11->pmdarima) (0.5.1)\n",
            "Requirement already satisfied: six>=1.5 in /usr/local/lib/python3.6/dist-packages (from python-dateutil>=2.7.3->pandas>=0.19->pmdarima) (1.15.0)\n",
            "Installing collected packages: Cython, statsmodels, pmdarima\n",
            "  Found existing installation: Cython 0.29.21\n",
            "    Uninstalling Cython-0.29.21:\n",
            "      Successfully uninstalled Cython-0.29.21\n",
            "  Found existing installation: statsmodels 0.10.2\n",
            "    Uninstalling statsmodels-0.10.2:\n",
            "      Successfully uninstalled statsmodels-0.10.2\n",
            "Successfully installed Cython-0.29.17 pmdarima-1.8.0 statsmodels-0.12.1\n"
          ],
          "name": "stdout"
        }
      ]
    },
    {
      "cell_type": "code",
      "metadata": {
        "id": "E3SOJLzCRzAj"
      },
      "source": [
        "import pandas as pd\n",
        "import numpy as np\n",
        "%matplotlib inline\n",
        "\n",
        "# Load specific forecasting tools\n",
        "from statsmodels.tsa.statespace.sarimax import SARIMAX\n",
        "\n",
        "from statsmodels.graphics.tsaplots import plot_acf,plot_pacf # for determining (p,q) orders\n",
        "from statsmodels.tsa.seasonal import seasonal_decompose      # for ETS Plots\n",
        "from pmdarima import auto_arima                              # for determining ARIMA orders\n",
        "from datetime import datetime\n",
        "\n",
        "# Ignore harmless warnings\n",
        "import warnings\n",
        "warnings.filterwarnings(\"ignore\")\n",
        "\n",
        "# Load dataset\n",
        "df = pd.read_csv(\"/content/drive/MyDrive/Bitcoin/bitstampUSD_1-min_data_2012-01-01_to_2020-12-31.csv\")\n",
        "\n"
      ],
      "execution_count": 4,
      "outputs": []
    },
    {
      "cell_type": "markdown",
      "metadata": {
        "id": "JNkMyNUXaMsp"
      },
      "source": [
        "# Data Exploration"
      ]
    },
    {
      "cell_type": "code",
      "metadata": {
        "colab": {
          "base_uri": "https://localhost:8080/",
          "height": 204
        },
        "id": "9BCmC7pASGyN",
        "outputId": "24cd6b1c-283a-49b7-a15b-5b4c1ccd6afa"
      },
      "source": [
        "df.head()"
      ],
      "execution_count": 5,
      "outputs": [
        {
          "output_type": "execute_result",
          "data": {
            "text/html": [
              "<div>\n",
              "<style scoped>\n",
              "    .dataframe tbody tr th:only-of-type {\n",
              "        vertical-align: middle;\n",
              "    }\n",
              "\n",
              "    .dataframe tbody tr th {\n",
              "        vertical-align: top;\n",
              "    }\n",
              "\n",
              "    .dataframe thead th {\n",
              "        text-align: right;\n",
              "    }\n",
              "</style>\n",
              "<table border=\"1\" class=\"dataframe\">\n",
              "  <thead>\n",
              "    <tr style=\"text-align: right;\">\n",
              "      <th></th>\n",
              "      <th>Timestamp</th>\n",
              "      <th>Open</th>\n",
              "      <th>High</th>\n",
              "      <th>Low</th>\n",
              "      <th>Close</th>\n",
              "      <th>Volume_(BTC)</th>\n",
              "      <th>Volume_(Currency)</th>\n",
              "      <th>Weighted_Price</th>\n",
              "    </tr>\n",
              "  </thead>\n",
              "  <tbody>\n",
              "    <tr>\n",
              "      <th>0</th>\n",
              "      <td>1325317920</td>\n",
              "      <td>4.39</td>\n",
              "      <td>4.39</td>\n",
              "      <td>4.39</td>\n",
              "      <td>4.39</td>\n",
              "      <td>0.455581</td>\n",
              "      <td>2.0</td>\n",
              "      <td>4.39</td>\n",
              "    </tr>\n",
              "    <tr>\n",
              "      <th>1</th>\n",
              "      <td>1325317980</td>\n",
              "      <td>NaN</td>\n",
              "      <td>NaN</td>\n",
              "      <td>NaN</td>\n",
              "      <td>NaN</td>\n",
              "      <td>NaN</td>\n",
              "      <td>NaN</td>\n",
              "      <td>NaN</td>\n",
              "    </tr>\n",
              "    <tr>\n",
              "      <th>2</th>\n",
              "      <td>1325318040</td>\n",
              "      <td>NaN</td>\n",
              "      <td>NaN</td>\n",
              "      <td>NaN</td>\n",
              "      <td>NaN</td>\n",
              "      <td>NaN</td>\n",
              "      <td>NaN</td>\n",
              "      <td>NaN</td>\n",
              "    </tr>\n",
              "    <tr>\n",
              "      <th>3</th>\n",
              "      <td>1325318100</td>\n",
              "      <td>NaN</td>\n",
              "      <td>NaN</td>\n",
              "      <td>NaN</td>\n",
              "      <td>NaN</td>\n",
              "      <td>NaN</td>\n",
              "      <td>NaN</td>\n",
              "      <td>NaN</td>\n",
              "    </tr>\n",
              "    <tr>\n",
              "      <th>4</th>\n",
              "      <td>1325318160</td>\n",
              "      <td>NaN</td>\n",
              "      <td>NaN</td>\n",
              "      <td>NaN</td>\n",
              "      <td>NaN</td>\n",
              "      <td>NaN</td>\n",
              "      <td>NaN</td>\n",
              "      <td>NaN</td>\n",
              "    </tr>\n",
              "  </tbody>\n",
              "</table>\n",
              "</div>"
            ],
            "text/plain": [
              "    Timestamp  Open  High  ...  Volume_(BTC)  Volume_(Currency)  Weighted_Price\n",
              "0  1325317920  4.39  4.39  ...      0.455581                2.0            4.39\n",
              "1  1325317980   NaN   NaN  ...           NaN                NaN             NaN\n",
              "2  1325318040   NaN   NaN  ...           NaN                NaN             NaN\n",
              "3  1325318100   NaN   NaN  ...           NaN                NaN             NaN\n",
              "4  1325318160   NaN   NaN  ...           NaN                NaN             NaN\n",
              "\n",
              "[5 rows x 8 columns]"
            ]
          },
          "metadata": {
            "tags": []
          },
          "execution_count": 5
        }
      ]
    },
    {
      "cell_type": "code",
      "metadata": {
        "colab": {
          "base_uri": "https://localhost:8080/"
        },
        "id": "lwsvGtceaUin",
        "outputId": "05e02b55-517c-4f98-fd4c-2e0161bf1795"
      },
      "source": [
        "df.columns"
      ],
      "execution_count": 6,
      "outputs": [
        {
          "output_type": "execute_result",
          "data": {
            "text/plain": [
              "Index(['Timestamp', 'Open', 'High', 'Low', 'Close', 'Volume_(BTC)',\n",
              "       'Volume_(Currency)', 'Weighted_Price'],\n",
              "      dtype='object')"
            ]
          },
          "metadata": {
            "tags": []
          },
          "execution_count": 6
        }
      ]
    },
    {
      "cell_type": "code",
      "metadata": {
        "colab": {
          "base_uri": "https://localhost:8080/"
        },
        "id": "a_driIG5adAJ",
        "outputId": "8e571614-514f-4247-d82d-896f87d96e24"
      },
      "source": [
        "df.shape"
      ],
      "execution_count": 7,
      "outputs": [
        {
          "output_type": "execute_result",
          "data": {
            "text/plain": [
              "(4727777, 8)"
            ]
          },
          "metadata": {
            "tags": []
          },
          "execution_count": 7
        }
      ]
    },
    {
      "cell_type": "code",
      "metadata": {
        "colab": {
          "base_uri": "https://localhost:8080/"
        },
        "id": "1xwJ6yErf_ZN",
        "outputId": "0271b0ca-2da6-4138-b0b3-e353dca9fc29"
      },
      "source": [
        "# checking for non-unique timestamp\n",
        "df['Timestamp'].nunique()"
      ],
      "execution_count": 8,
      "outputs": [
        {
          "output_type": "execute_result",
          "data": {
            "text/plain": [
              "4727777"
            ]
          },
          "metadata": {
            "tags": []
          },
          "execution_count": 8
        }
      ]
    },
    {
      "cell_type": "code",
      "metadata": {
        "id": "NtAJUBylg1Yj"
      },
      "source": [
        "# setting the timestamp to be the index\n",
        "df['Timestamp'] = [datetime.fromtimestamp(x) for x in df['Timestamp']]\n",
        "df = df.set_index('Timestamp')"
      ],
      "execution_count": 9,
      "outputs": []
    },
    {
      "cell_type": "code",
      "metadata": {
        "colab": {
          "base_uri": "https://localhost:8080/",
          "height": 235
        },
        "id": "Fen6CouuhRdH",
        "outputId": "8bf170ee-2dd9-4bdf-f39b-5b5d04d78515"
      },
      "source": [
        "df.head(5)"
      ],
      "execution_count": 10,
      "outputs": [
        {
          "output_type": "execute_result",
          "data": {
            "text/html": [
              "<div>\n",
              "<style scoped>\n",
              "    .dataframe tbody tr th:only-of-type {\n",
              "        vertical-align: middle;\n",
              "    }\n",
              "\n",
              "    .dataframe tbody tr th {\n",
              "        vertical-align: top;\n",
              "    }\n",
              "\n",
              "    .dataframe thead th {\n",
              "        text-align: right;\n",
              "    }\n",
              "</style>\n",
              "<table border=\"1\" class=\"dataframe\">\n",
              "  <thead>\n",
              "    <tr style=\"text-align: right;\">\n",
              "      <th></th>\n",
              "      <th>Open</th>\n",
              "      <th>High</th>\n",
              "      <th>Low</th>\n",
              "      <th>Close</th>\n",
              "      <th>Volume_(BTC)</th>\n",
              "      <th>Volume_(Currency)</th>\n",
              "      <th>Weighted_Price</th>\n",
              "    </tr>\n",
              "    <tr>\n",
              "      <th>Timestamp</th>\n",
              "      <th></th>\n",
              "      <th></th>\n",
              "      <th></th>\n",
              "      <th></th>\n",
              "      <th></th>\n",
              "      <th></th>\n",
              "      <th></th>\n",
              "    </tr>\n",
              "  </thead>\n",
              "  <tbody>\n",
              "    <tr>\n",
              "      <th>2011-12-31 07:52:00</th>\n",
              "      <td>4.39</td>\n",
              "      <td>4.39</td>\n",
              "      <td>4.39</td>\n",
              "      <td>4.39</td>\n",
              "      <td>0.455581</td>\n",
              "      <td>2.0</td>\n",
              "      <td>4.39</td>\n",
              "    </tr>\n",
              "    <tr>\n",
              "      <th>2011-12-31 07:53:00</th>\n",
              "      <td>NaN</td>\n",
              "      <td>NaN</td>\n",
              "      <td>NaN</td>\n",
              "      <td>NaN</td>\n",
              "      <td>NaN</td>\n",
              "      <td>NaN</td>\n",
              "      <td>NaN</td>\n",
              "    </tr>\n",
              "    <tr>\n",
              "      <th>2011-12-31 07:54:00</th>\n",
              "      <td>NaN</td>\n",
              "      <td>NaN</td>\n",
              "      <td>NaN</td>\n",
              "      <td>NaN</td>\n",
              "      <td>NaN</td>\n",
              "      <td>NaN</td>\n",
              "      <td>NaN</td>\n",
              "    </tr>\n",
              "    <tr>\n",
              "      <th>2011-12-31 07:55:00</th>\n",
              "      <td>NaN</td>\n",
              "      <td>NaN</td>\n",
              "      <td>NaN</td>\n",
              "      <td>NaN</td>\n",
              "      <td>NaN</td>\n",
              "      <td>NaN</td>\n",
              "      <td>NaN</td>\n",
              "    </tr>\n",
              "    <tr>\n",
              "      <th>2011-12-31 07:56:00</th>\n",
              "      <td>NaN</td>\n",
              "      <td>NaN</td>\n",
              "      <td>NaN</td>\n",
              "      <td>NaN</td>\n",
              "      <td>NaN</td>\n",
              "      <td>NaN</td>\n",
              "      <td>NaN</td>\n",
              "    </tr>\n",
              "  </tbody>\n",
              "</table>\n",
              "</div>"
            ],
            "text/plain": [
              "                     Open  High  ...  Volume_(Currency)  Weighted_Price\n",
              "Timestamp                        ...                                   \n",
              "2011-12-31 07:52:00  4.39  4.39  ...                2.0            4.39\n",
              "2011-12-31 07:53:00   NaN   NaN  ...                NaN             NaN\n",
              "2011-12-31 07:54:00   NaN   NaN  ...                NaN             NaN\n",
              "2011-12-31 07:55:00   NaN   NaN  ...                NaN             NaN\n",
              "2011-12-31 07:56:00   NaN   NaN  ...                NaN             NaN\n",
              "\n",
              "[5 rows x 7 columns]"
            ]
          },
          "metadata": {
            "tags": []
          },
          "execution_count": 10
        }
      ]
    },
    {
      "cell_type": "code",
      "metadata": {
        "id": "4FFX2tFZh7qE",
        "colab": {
          "base_uri": "https://localhost:8080/",
          "height": 235
        },
        "outputId": "a4876879-8388-4a53-dfc3-3237099c1d39"
      },
      "source": [
        "df.tail(5)"
      ],
      "execution_count": 11,
      "outputs": [
        {
          "output_type": "execute_result",
          "data": {
            "text/html": [
              "<div>\n",
              "<style scoped>\n",
              "    .dataframe tbody tr th:only-of-type {\n",
              "        vertical-align: middle;\n",
              "    }\n",
              "\n",
              "    .dataframe tbody tr th {\n",
              "        vertical-align: top;\n",
              "    }\n",
              "\n",
              "    .dataframe thead th {\n",
              "        text-align: right;\n",
              "    }\n",
              "</style>\n",
              "<table border=\"1\" class=\"dataframe\">\n",
              "  <thead>\n",
              "    <tr style=\"text-align: right;\">\n",
              "      <th></th>\n",
              "      <th>Open</th>\n",
              "      <th>High</th>\n",
              "      <th>Low</th>\n",
              "      <th>Close</th>\n",
              "      <th>Volume_(BTC)</th>\n",
              "      <th>Volume_(Currency)</th>\n",
              "      <th>Weighted_Price</th>\n",
              "    </tr>\n",
              "    <tr>\n",
              "      <th>Timestamp</th>\n",
              "      <th></th>\n",
              "      <th></th>\n",
              "      <th></th>\n",
              "      <th></th>\n",
              "      <th></th>\n",
              "      <th></th>\n",
              "      <th></th>\n",
              "    </tr>\n",
              "  </thead>\n",
              "  <tbody>\n",
              "    <tr>\n",
              "      <th>2020-12-30 23:56:00</th>\n",
              "      <td>28801.47</td>\n",
              "      <td>28829.42</td>\n",
              "      <td>28785.64</td>\n",
              "      <td>28829.42</td>\n",
              "      <td>0.965221</td>\n",
              "      <td>27804.572129</td>\n",
              "      <td>28806.429798</td>\n",
              "    </tr>\n",
              "    <tr>\n",
              "      <th>2020-12-30 23:57:00</th>\n",
              "      <td>28829.42</td>\n",
              "      <td>28863.90</td>\n",
              "      <td>28829.42</td>\n",
              "      <td>28857.06</td>\n",
              "      <td>2.368831</td>\n",
              "      <td>68332.350629</td>\n",
              "      <td>28846.441863</td>\n",
              "    </tr>\n",
              "    <tr>\n",
              "      <th>2020-12-30 23:58:00</th>\n",
              "      <td>28850.49</td>\n",
              "      <td>28900.52</td>\n",
              "      <td>28850.49</td>\n",
              "      <td>28882.82</td>\n",
              "      <td>2.466590</td>\n",
              "      <td>71232.784464</td>\n",
              "      <td>28879.056266</td>\n",
              "    </tr>\n",
              "    <tr>\n",
              "      <th>2020-12-30 23:59:00</th>\n",
              "      <td>28910.54</td>\n",
              "      <td>28911.52</td>\n",
              "      <td>28867.60</td>\n",
              "      <td>28881.30</td>\n",
              "      <td>7.332773</td>\n",
              "      <td>211870.912660</td>\n",
              "      <td>28893.695831</td>\n",
              "    </tr>\n",
              "    <tr>\n",
              "      <th>2020-12-31 00:00:00</th>\n",
              "      <td>28893.21</td>\n",
              "      <td>28928.49</td>\n",
              "      <td>28893.21</td>\n",
              "      <td>28928.49</td>\n",
              "      <td>5.757679</td>\n",
              "      <td>166449.709320</td>\n",
              "      <td>28909.166061</td>\n",
              "    </tr>\n",
              "  </tbody>\n",
              "</table>\n",
              "</div>"
            ],
            "text/plain": [
              "                         Open      High  ...  Volume_(Currency)  Weighted_Price\n",
              "Timestamp                                ...                                   \n",
              "2020-12-30 23:56:00  28801.47  28829.42  ...       27804.572129    28806.429798\n",
              "2020-12-30 23:57:00  28829.42  28863.90  ...       68332.350629    28846.441863\n",
              "2020-12-30 23:58:00  28850.49  28900.52  ...       71232.784464    28879.056266\n",
              "2020-12-30 23:59:00  28910.54  28911.52  ...      211870.912660    28893.695831\n",
              "2020-12-31 00:00:00  28893.21  28928.49  ...      166449.709320    28909.166061\n",
              "\n",
              "[5 rows x 7 columns]"
            ]
          },
          "metadata": {
            "tags": []
          },
          "execution_count": 11
        }
      ]
    },
    {
      "cell_type": "code",
      "metadata": {
        "colab": {
          "base_uri": "https://localhost:8080/"
        },
        "id": "j84Af0loVKAq",
        "outputId": "e87f8dd5-b236-434c-ccba-57d63fc8ea23"
      },
      "source": [
        "df.info()"
      ],
      "execution_count": 12,
      "outputs": [
        {
          "output_type": "stream",
          "text": [
            "<class 'pandas.core.frame.DataFrame'>\n",
            "DatetimeIndex: 4727777 entries, 2011-12-31 07:52:00 to 2020-12-31 00:00:00\n",
            "Data columns (total 7 columns):\n",
            " #   Column             Dtype  \n",
            "---  ------             -----  \n",
            " 0   Open               float64\n",
            " 1   High               float64\n",
            " 2   Low                float64\n",
            " 3   Close              float64\n",
            " 4   Volume_(BTC)       float64\n",
            " 5   Volume_(Currency)  float64\n",
            " 6   Weighted_Price     float64\n",
            "dtypes: float64(7)\n",
            "memory usage: 288.6 MB\n"
          ],
          "name": "stdout"
        }
      ]
    },
    {
      "cell_type": "markdown",
      "metadata": {
        "id": "Bh_tU3sZXGii"
      },
      "source": [
        "# Data Processing.\r\n"
      ]
    },
    {
      "cell_type": "code",
      "metadata": {
        "id": "2ul1k14jXOYB"
      },
      "source": [
        "#Remove unneeded columns\r\n",
        "bitcoin_columns= [ 'Open', 'High', 'Low', 'Close', 'Volume_(BTC)','Volume_(Currency)']\r\n",
        "df.drop(bitcoin_columns,axis=1, inplace=True)"
      ],
      "execution_count": 13,
      "outputs": []
    },
    {
      "cell_type": "code",
      "metadata": {
        "colab": {
          "base_uri": "https://localhost:8080/",
          "height": 235
        },
        "id": "1JUF4MdKY5-O",
        "outputId": "213c2958-ae7b-487f-ba30-ce41bcde656b"
      },
      "source": [
        "df.head()"
      ],
      "execution_count": 14,
      "outputs": [
        {
          "output_type": "execute_result",
          "data": {
            "text/html": [
              "<div>\n",
              "<style scoped>\n",
              "    .dataframe tbody tr th:only-of-type {\n",
              "        vertical-align: middle;\n",
              "    }\n",
              "\n",
              "    .dataframe tbody tr th {\n",
              "        vertical-align: top;\n",
              "    }\n",
              "\n",
              "    .dataframe thead th {\n",
              "        text-align: right;\n",
              "    }\n",
              "</style>\n",
              "<table border=\"1\" class=\"dataframe\">\n",
              "  <thead>\n",
              "    <tr style=\"text-align: right;\">\n",
              "      <th></th>\n",
              "      <th>Weighted_Price</th>\n",
              "    </tr>\n",
              "    <tr>\n",
              "      <th>Timestamp</th>\n",
              "      <th></th>\n",
              "    </tr>\n",
              "  </thead>\n",
              "  <tbody>\n",
              "    <tr>\n",
              "      <th>2011-12-31 07:52:00</th>\n",
              "      <td>4.39</td>\n",
              "    </tr>\n",
              "    <tr>\n",
              "      <th>2011-12-31 07:53:00</th>\n",
              "      <td>NaN</td>\n",
              "    </tr>\n",
              "    <tr>\n",
              "      <th>2011-12-31 07:54:00</th>\n",
              "      <td>NaN</td>\n",
              "    </tr>\n",
              "    <tr>\n",
              "      <th>2011-12-31 07:55:00</th>\n",
              "      <td>NaN</td>\n",
              "    </tr>\n",
              "    <tr>\n",
              "      <th>2011-12-31 07:56:00</th>\n",
              "      <td>NaN</td>\n",
              "    </tr>\n",
              "  </tbody>\n",
              "</table>\n",
              "</div>"
            ],
            "text/plain": [
              "                     Weighted_Price\n",
              "Timestamp                          \n",
              "2011-12-31 07:52:00            4.39\n",
              "2011-12-31 07:53:00             NaN\n",
              "2011-12-31 07:54:00             NaN\n",
              "2011-12-31 07:55:00             NaN\n",
              "2011-12-31 07:56:00             NaN"
            ]
          },
          "metadata": {
            "tags": []
          },
          "execution_count": 14
        }
      ]
    },
    {
      "cell_type": "code",
      "metadata": {
        "colab": {
          "base_uri": "https://localhost:8080/"
        },
        "id": "yHwVijpSY8of",
        "outputId": "6ce4231f-fec3-40ca-8cee-eefc354d27e1"
      },
      "source": [
        "df.isnull().sum()"
      ],
      "execution_count": 15,
      "outputs": [
        {
          "output_type": "execute_result",
          "data": {
            "text/plain": [
              "Weighted_Price    1243472\n",
              "dtype: int64"
            ]
          },
          "metadata": {
            "tags": []
          },
          "execution_count": 15
        }
      ]
    },
    {
      "cell_type": "markdown",
      "metadata": {
        "id": "K4bQ8ZApclXt"
      },
      "source": [
        "# Handling of missing data.\r\n",
        "Imputation of missing values. "
      ]
    },
    {
      "cell_type": "code",
      "metadata": {
        "id": "4SDuBzV7evCY"
      },
      "source": [
        "missing_col = ['Weighted_Price']\r\n",
        "#Technique 1: Using mean to impute the missing values\r\n",
        "for i in missing_col:\r\n",
        " df.loc[df.loc[:,i].isnull(),i]=df.loc[:,i].mean()"
      ],
      "execution_count": 16,
      "outputs": []
    },
    {
      "cell_type": "code",
      "metadata": {
        "colab": {
          "base_uri": "https://localhost:8080/"
        },
        "id": "7sBWwCS2gXv_",
        "outputId": "9b5a7bdd-40fd-4b5d-a839-ee5604c6b5c9"
      },
      "source": [
        "df.isnull().sum()"
      ],
      "execution_count": 17,
      "outputs": [
        {
          "output_type": "execute_result",
          "data": {
            "text/plain": [
              "Weighted_Price    0\n",
              "dtype: int64"
            ]
          },
          "metadata": {
            "tags": []
          },
          "execution_count": 17
        }
      ]
    },
    {
      "cell_type": "code",
      "metadata": {
        "colab": {
          "base_uri": "https://localhost:8080/",
          "height": 235
        },
        "id": "ZOknHWH7glX3",
        "outputId": "d3c110b9-fa43-4c86-be9e-0464bd42960a"
      },
      "source": [
        "df.head()"
      ],
      "execution_count": 18,
      "outputs": [
        {
          "output_type": "execute_result",
          "data": {
            "text/html": [
              "<div>\n",
              "<style scoped>\n",
              "    .dataframe tbody tr th:only-of-type {\n",
              "        vertical-align: middle;\n",
              "    }\n",
              "\n",
              "    .dataframe tbody tr th {\n",
              "        vertical-align: top;\n",
              "    }\n",
              "\n",
              "    .dataframe thead th {\n",
              "        text-align: right;\n",
              "    }\n",
              "</style>\n",
              "<table border=\"1\" class=\"dataframe\">\n",
              "  <thead>\n",
              "    <tr style=\"text-align: right;\">\n",
              "      <th></th>\n",
              "      <th>Weighted_Price</th>\n",
              "    </tr>\n",
              "    <tr>\n",
              "      <th>Timestamp</th>\n",
              "      <th></th>\n",
              "    </tr>\n",
              "  </thead>\n",
              "  <tbody>\n",
              "    <tr>\n",
              "      <th>2011-12-31 07:52:00</th>\n",
              "      <td>4.39000</td>\n",
              "    </tr>\n",
              "    <tr>\n",
              "      <th>2011-12-31 07:53:00</th>\n",
              "      <td>4570.62516</td>\n",
              "    </tr>\n",
              "    <tr>\n",
              "      <th>2011-12-31 07:54:00</th>\n",
              "      <td>4570.62516</td>\n",
              "    </tr>\n",
              "    <tr>\n",
              "      <th>2011-12-31 07:55:00</th>\n",
              "      <td>4570.62516</td>\n",
              "    </tr>\n",
              "    <tr>\n",
              "      <th>2011-12-31 07:56:00</th>\n",
              "      <td>4570.62516</td>\n",
              "    </tr>\n",
              "  </tbody>\n",
              "</table>\n",
              "</div>"
            ],
            "text/plain": [
              "                     Weighted_Price\n",
              "Timestamp                          \n",
              "2011-12-31 07:52:00         4.39000\n",
              "2011-12-31 07:53:00      4570.62516\n",
              "2011-12-31 07:54:00      4570.62516\n",
              "2011-12-31 07:55:00      4570.62516\n",
              "2011-12-31 07:56:00      4570.62516"
            ]
          },
          "metadata": {
            "tags": []
          },
          "execution_count": 18
        }
      ]
    },
    {
      "cell_type": "code",
      "metadata": {
        "id": "YpThkCjohCRT"
      },
      "source": [
        "#resample your data to 'MS' and use mean function\r\n",
        "y = df['Weighted_Price'].resample('MS').mean()"
      ],
      "execution_count": 19,
      "outputs": []
    },
    {
      "cell_type": "code",
      "metadata": {
        "colab": {
          "base_uri": "https://localhost:8080/",
          "height": 388
        },
        "id": "tenTPw_3hgc5",
        "outputId": "5d92c51a-129a-4135-91db-4d4584dbc0be"
      },
      "source": [
        "#use the line plot to see the entire database\r\n",
        "import matplotlib.pyplot as plt\r\n",
        "y.plot(figsize=(15, 6))\r\n",
        "plt.show()"
      ],
      "execution_count": 20,
      "outputs": [
        {
          "output_type": "display_data",
          "data": {
            "image/png": "[encoded data removed]",
            "text/plain": [
              "<Figure size 1080x432 with 1 Axes>"
            ]
          },
          "metadata": {
            "tags": [],
            "needs_background": "light"
          }
        }
      ]
    },
    {
      "cell_type": "code",
      "metadata": {
        "colab": {
          "base_uri": "https://localhost:8080/",
          "height": 297
        },
        "id": "piuVdA13k2kF",
        "outputId": "8d1ae4c2-1b37-4ec1-c4dd-2cbb981c4237"
      },
      "source": [
        "#import seasonal-decompose from the statsmodel and decompose the time series components in diffrent graphs\r\n",
        "\r\n",
        "from statsmodels.tsa.seasonal import seasonal_decompose\r\n",
        "result = seasonal_decompose(y, model='additive')  # model='mul' also works\r\n",
        "result.plot();"
      ],
      "execution_count": 21,
      "outputs": [
        {
          "output_type": "display_data",
          "data": {
            "image/png": "[encoded data removed]",
            "text/plain": [
              "<Figure size 432x288 with 4 Axes>"
            ]
          },
          "metadata": {
            "tags": [],
            "needs_background": "light"
          }
        }
      ]
    },
    {
      "cell_type": "markdown",
      "metadata": {
        "id": "_3IfWHl3lOf-"
      },
      "source": [
        ""
      ]
    },
    {
      "cell_type": "code",
      "metadata": {
        "id": "tKFhiR_ck6Hb"
      },
      "source": [
        "# Load specific forecasting tools\r\n",
        "from statsmodels.tsa.statespace.sarimax import SARIMAX\r\n",
        "\r\n",
        "from statsmodels.graphics.tsaplots import plot_acf,plot_pacf # for determining (p,q) orders\r\n",
        "from pmdarima import auto_arima                              # for determining ARIMA orders"
      ],
      "execution_count": 22,
      "outputs": []
    },
    {
      "cell_type": "code",
      "metadata": {
        "id": "CtJwL1EjlXHt"
      },
      "source": [
        "import numpy as np\r\n",
        "import pmdarima as pm"
      ],
      "execution_count": 23,
      "outputs": []
    },
    {
      "cell_type": "code",
      "metadata": {
        "id": "PRjODPsGlap8"
      },
      "source": [
        "import warnings\r\n",
        "warnings.filterwarnings('ignore')"
      ],
      "execution_count": 24,
      "outputs": []
    },
    {
      "cell_type": "code",
      "metadata": {
        "id": "AZSQkS34liTv"
      },
      "source": [
        "#As can be see there are seasonaly in our dataset, select the appropariate model \r\n",
        "#and train the model after finding the (p,d,q)(P,D,Q,M)\r\n",
        "\r\n",
        "stepwise_fit = auto_arima(y,seasonal = True, m=12)"
      ],
      "execution_count": 25,
      "outputs": []
    },
    {
      "cell_type": "code",
      "metadata": {
        "colab": {
          "base_uri": "https://localhost:8080/",
          "height": 402
        },
        "id": "XndkbCJblqMs",
        "outputId": "755caf4f-a858-4d2b-e2d9-65714e2e70ad"
      },
      "source": [
        "stepwise_fit.summary()"
      ],
      "execution_count": 26,
      "outputs": [
        {
          "output_type": "execute_result",
          "data": {
            "text/html": [
              "<table class=\"simpletable\">\n",
              "<caption>SARIMAX Results</caption>\n",
              "<tr>\n",
              "  <th>Dep. Variable:</th>           <td>y</td>        <th>  No. Observations:  </th>    <td>109</td>  \n",
              "</tr>\n",
              "<tr>\n",
              "  <th>Model:</th>           <td>SARIMAX(0, 1, 1)</td> <th>  Log Likelihood     </th> <td>-920.192</td>\n",
              "</tr>\n",
              "<tr>\n",
              "  <th>Date:</th>            <td>Tue, 12 Jan 2021</td> <th>  AIC                </th> <td>1844.384</td>\n",
              "</tr>\n",
              "<tr>\n",
              "  <th>Time:</th>                <td>12:57:53</td>     <th>  BIC                </th> <td>1849.748</td>\n",
              "</tr>\n",
              "<tr>\n",
              "  <th>Sample:</th>                  <td>0</td>        <th>  HQIC               </th> <td>1846.559</td>\n",
              "</tr>\n",
              "<tr>\n",
              "  <th></th>                      <td> - 109</td>      <th>                     </th>     <td> </td>   \n",
              "</tr>\n",
              "<tr>\n",
              "  <th>Covariance Type:</th>        <td>opg</td>       <th>                     </th>     <td> </td>   \n",
              "</tr>\n",
              "</table>\n",
              "<table class=\"simpletable\">\n",
              "<tr>\n",
              "     <td></td>       <th>coef</th>     <th>std err</th>      <th>z</th>      <th>P>|z|</th>  <th>[0.025</th>    <th>0.975]</th>  \n",
              "</tr>\n",
              "<tr>\n",
              "  <th>ma.L1</th>  <td>    0.3841</td> <td>    0.043</td> <td>    8.855</td> <td> 0.000</td> <td>    0.299</td> <td>    0.469</td>\n",
              "</tr>\n",
              "<tr>\n",
              "  <th>sigma2</th> <td> 1.516e+06</td> <td>  9.4e+04</td> <td>   16.128</td> <td> 0.000</td> <td> 1.33e+06</td> <td>  1.7e+06</td>\n",
              "</tr>\n",
              "</table>\n",
              "<table class=\"simpletable\">\n",
              "<tr>\n",
              "  <th>Ljung-Box (L1) (Q):</th>     <td>0.01</td>  <th>  Jarque-Bera (JB):  </th> <td>316.71</td>\n",
              "</tr>\n",
              "<tr>\n",
              "  <th>Prob(Q):</th>                <td>0.91</td>  <th>  Prob(JB):          </th>  <td>0.00</td> \n",
              "</tr>\n",
              "<tr>\n",
              "  <th>Heteroskedasticity (H):</th> <td>15.16</td> <th>  Skew:              </th>  <td>1.15</td> \n",
              "</tr>\n",
              "<tr>\n",
              "  <th>Prob(H) (two-sided):</th>    <td>0.00</td>  <th>  Kurtosis:          </th>  <td>11.07</td>\n",
              "</tr>\n",
              "</table><br/><br/>Warnings:<br/>[1] Covariance matrix calculated using the outer product of gradients (complex-step)."
            ],
            "text/plain": [
              "<class 'statsmodels.iolib.summary.Summary'>\n",
              "\"\"\"\n",
              "                               SARIMAX Results                                \n",
              "==============================================================================\n",
              "Dep. Variable:                      y   No. Observations:                  109\n",
              "Model:               SARIMAX(0, 1, 1)   Log Likelihood                -920.192\n",
              "Date:                Tue, 12 Jan 2021   AIC                           1844.384\n",
              "Time:                        12:57:53   BIC                           1849.748\n",
              "Sample:                             0   HQIC                          1846.559\n",
              "                                - 109                                         \n",
              "Covariance Type:                  opg                                         \n",
              "==============================================================================\n",
              "                 coef    std err          z      P>|z|      [0.025      0.975]\n",
              "------------------------------------------------------------------------------\n",
              "ma.L1          0.3841      0.043      8.855      0.000       0.299       0.469\n",
              "sigma2      1.516e+06    9.4e+04     16.128      0.000    1.33e+06     1.7e+06\n",
              "===================================================================================\n",
              "Ljung-Box (L1) (Q):                   0.01   Jarque-Bera (JB):               316.71\n",
              "Prob(Q):                              0.91   Prob(JB):                         0.00\n",
              "Heteroskedasticity (H):              15.16   Skew:                             1.15\n",
              "Prob(H) (two-sided):                  0.00   Kurtosis:                        11.07\n",
              "===================================================================================\n",
              "\n",
              "Warnings:\n",
              "[1] Covariance matrix calculated using the outer product of gradients (complex-step).\n",
              "\"\"\""
            ]
          },
          "metadata": {
            "tags": []
          },
          "execution_count": 26
        }
      ]
    },
    {
      "cell_type": "code",
      "metadata": {
        "colab": {
          "base_uri": "https://localhost:8080/"
        },
        "id": "_g-yOz2lmv4y",
        "outputId": "72165c79-0894-4cf2-f397-a9e815ce983f"
      },
      "source": [
        "len(y)"
      ],
      "execution_count": 27,
      "outputs": [
        {
          "output_type": "execute_result",
          "data": {
            "text/plain": [
              "109"
            ]
          },
          "metadata": {
            "tags": []
          },
          "execution_count": 27
        }
      ]
    },
    {
      "cell_type": "code",
      "metadata": {
        "id": "ySTHQ8s7oBaD"
      },
      "source": [
        "train=y.iloc[:85]\r\n",
        "test=y.iloc[85:]"
      ],
      "execution_count": 28,
      "outputs": []
    },
    {
      "cell_type": "code",
      "metadata": {
        "id": "8I53P8V8oQRp"
      },
      "source": [
        "#6. Obtain predicted values\r\n",
        "model = SARIMAX(train,order=(2,1,2),seasonal_order=(2,1,2,12))\r\n",
        "results = model.fit()\r\n",
        "#results.summary()\r\n",
        "start=len(train)\r\n",
        "end=len(train)+len(test)-1\r\n",
        "predictions = results.predict(start=start, end=end, dynamic=False, typ='levels').rename('SARIMA(0,1,0)(2,0,0,12) Predictions')"
      ],
      "execution_count": 29,
      "outputs": []
    },
    {
      "cell_type": "code",
      "metadata": {
        "colab": {
          "base_uri": "https://localhost:8080/",
          "height": 549
        },
        "id": "B6KrXPZCxDUq",
        "outputId": "0c5100c7-6a0a-4b35-e804-be7b0146d9b3"
      },
      "source": [
        "results.summary()"
      ],
      "execution_count": 39,
      "outputs": [
        {
          "output_type": "execute_result",
          "data": {
            "text/html": [
              "<table class=\"simpletable\">\n",
              "<caption>SARIMAX Results</caption>\n",
              "<tr>\n",
              "  <th>Dep. Variable:</th>           <td>Weighted_Price</td>         <th>  No. Observations:  </th>    <td>85</td>   \n",
              "</tr>\n",
              "<tr>\n",
              "  <th>Model:</th>           <td>SARIMAX(2, 1, 2)x(2, 1, 2, 12)</td> <th>  Log Likelihood     </th> <td>-616.665</td>\n",
              "</tr>\n",
              "<tr>\n",
              "  <th>Date:</th>                   <td>Tue, 12 Jan 2021</td>        <th>  AIC                </th> <td>1251.331</td>\n",
              "</tr>\n",
              "<tr>\n",
              "  <th>Time:</th>                       <td>13:24:04</td>            <th>  BIC                </th> <td>1271.821</td>\n",
              "</tr>\n",
              "<tr>\n",
              "  <th>Sample:</th>                    <td>12-01-2011</td>           <th>  HQIC               </th> <td>1259.488</td>\n",
              "</tr>\n",
              "<tr>\n",
              "  <th></th>                          <td>- 12-01-2018</td>          <th>                     </th>     <td> </td>   \n",
              "</tr>\n",
              "<tr>\n",
              "  <th>Covariance Type:</th>               <td>opg</td>              <th>                     </th>     <td> </td>   \n",
              "</tr>\n",
              "</table>\n",
              "<table class=\"simpletable\">\n",
              "<tr>\n",
              "      <td></td>        <th>coef</th>     <th>std err</th>      <th>z</th>      <th>P>|z|</th>  <th>[0.025</th>    <th>0.975]</th>  \n",
              "</tr>\n",
              "<tr>\n",
              "  <th>ar.L1</th>    <td>   -0.8656</td> <td>    1.023</td> <td>   -0.846</td> <td> 0.397</td> <td>   -2.870</td> <td>    1.139</td>\n",
              "</tr>\n",
              "<tr>\n",
              "  <th>ar.L2</th>    <td>   -0.3641</td> <td>    0.721</td> <td>   -0.505</td> <td> 0.613</td> <td>   -1.777</td> <td>    1.048</td>\n",
              "</tr>\n",
              "<tr>\n",
              "  <th>ma.L1</th>    <td>    1.1366</td> <td>    1.064</td> <td>    1.068</td> <td> 0.286</td> <td>   -0.949</td> <td>    3.223</td>\n",
              "</tr>\n",
              "<tr>\n",
              "  <th>ma.L2</th>    <td>    0.5703</td> <td>    0.713</td> <td>    0.800</td> <td> 0.424</td> <td>   -0.827</td> <td>    1.967</td>\n",
              "</tr>\n",
              "<tr>\n",
              "  <th>ar.S.L12</th> <td>   -0.3931</td> <td>    7.007</td> <td>   -0.056</td> <td> 0.955</td> <td>  -14.128</td> <td>   13.341</td>\n",
              "</tr>\n",
              "<tr>\n",
              "  <th>ar.S.L24</th> <td>    0.2381</td> <td>    4.278</td> <td>    0.056</td> <td> 0.956</td> <td>   -8.146</td> <td>    8.622</td>\n",
              "</tr>\n",
              "<tr>\n",
              "  <th>ma.S.L12</th> <td>   -0.6011</td> <td>    7.123</td> <td>   -0.084</td> <td> 0.933</td> <td>  -14.561</td> <td>   13.359</td>\n",
              "</tr>\n",
              "<tr>\n",
              "  <th>ma.S.L24</th> <td>   -0.0392</td> <td>    3.275</td> <td>   -0.012</td> <td> 0.990</td> <td>   -6.459</td> <td>    6.380</td>\n",
              "</tr>\n",
              "<tr>\n",
              "  <th>sigma2</th>   <td> 2.534e+06</td> <td> 1.03e+06</td> <td>    2.457</td> <td> 0.014</td> <td> 5.13e+05</td> <td> 4.56e+06</td>\n",
              "</tr>\n",
              "</table>\n",
              "<table class=\"simpletable\">\n",
              "<tr>\n",
              "  <th>Ljung-Box (L1) (Q):</th>     <td>0.00</td> <th>  Jarque-Bera (JB):  </th> <td>422.48</td>\n",
              "</tr>\n",
              "<tr>\n",
              "  <th>Prob(Q):</th>                <td>0.97</td> <th>  Prob(JB):          </th>  <td>0.00</td> \n",
              "</tr>\n",
              "<tr>\n",
              "  <th>Heteroskedasticity (H):</th> <td>6.77</td> <th>  Skew:              </th>  <td>1.66</td> \n",
              "</tr>\n",
              "<tr>\n",
              "  <th>Prob(H) (two-sided):</th>    <td>0.00</td> <th>  Kurtosis:          </th>  <td>14.40</td>\n",
              "</tr>\n",
              "</table><br/><br/>Warnings:<br/>[1] Covariance matrix calculated using the outer product of gradients (complex-step)."
            ],
            "text/plain": [
              "<class 'statsmodels.iolib.summary.Summary'>\n",
              "\"\"\"\n",
              "                                     SARIMAX Results                                      \n",
              "==========================================================================================\n",
              "Dep. Variable:                     Weighted_Price   No. Observations:                   85\n",
              "Model:             SARIMAX(2, 1, 2)x(2, 1, 2, 12)   Log Likelihood                -616.665\n",
              "Date:                            Tue, 12 Jan 2021   AIC                           1251.331\n",
              "Time:                                    13:24:04   BIC                           1271.821\n",
              "Sample:                                12-01-2011   HQIC                          1259.488\n",
              "                                     - 12-01-2018                                         \n",
              "Covariance Type:                              opg                                         \n",
              "==============================================================================\n",
              "                 coef    std err          z      P>|z|      [0.025      0.975]\n",
              "------------------------------------------------------------------------------\n",
              "ar.L1         -0.8656      1.023     -0.846      0.397      -2.870       1.139\n",
              "ar.L2         -0.3641      0.721     -0.505      0.613      -1.777       1.048\n",
              "ma.L1          1.1366      1.064      1.068      0.286      -0.949       3.223\n",
              "ma.L2          0.5703      0.713      0.800      0.424      -0.827       1.967\n",
              "ar.S.L12      -0.3931      7.007     -0.056      0.955     -14.128      13.341\n",
              "ar.S.L24       0.2381      4.278      0.056      0.956      -8.146       8.622\n",
              "ma.S.L12      -0.6011      7.123     -0.084      0.933     -14.561      13.359\n",
              "ma.S.L24      -0.0392      3.275     -0.012      0.990      -6.459       6.380\n",
              "sigma2      2.534e+06   1.03e+06      2.457      0.014    5.13e+05    4.56e+06\n",
              "===================================================================================\n",
              "Ljung-Box (L1) (Q):                   0.00   Jarque-Bera (JB):               422.48\n",
              "Prob(Q):                              0.97   Prob(JB):                         0.00\n",
              "Heteroskedasticity (H):               6.77   Skew:                             1.66\n",
              "Prob(H) (two-sided):                  0.00   Kurtosis:                        14.40\n",
              "===================================================================================\n",
              "\n",
              "Warnings:\n",
              "[1] Covariance matrix calculated using the outer product of gradients (complex-step).\n",
              "\"\"\""
            ]
          },
          "metadata": {
            "tags": []
          },
          "execution_count": 39
        }
      ]
    },
    {
      "cell_type": "code",
      "metadata": {
        "colab": {
          "base_uri": "https://localhost:8080/"
        },
        "id": "l0FRRqYjxWv8",
        "outputId": "345d46fa-4fce-4f2d-eb96-76cc9c5770e8"
      },
      "source": [
        "predictions"
      ],
      "execution_count": 40,
      "outputs": [
        {
          "output_type": "execute_result",
          "data": {
            "text/plain": [
              "2019-01-01     2991.372618\n",
              "2019-02-01     3257.974083\n",
              "2019-03-01     3184.183060\n",
              "2019-04-01     3090.758991\n",
              "2019-05-01     3373.501484\n",
              "2019-06-01     3718.887009\n",
              "2019-07-01     3775.621391\n",
              "2019-08-01     4487.485450\n",
              "2019-09-01     4599.876237\n",
              "2019-10-01     5254.402229\n",
              "2019-11-01     6655.320833\n",
              "2019-12-01    10985.512227\n",
              "2020-01-01     9763.058029\n",
              "2020-02-01     7721.210077\n",
              "2020-03-01     7467.368321\n",
              "2020-04-01     6802.403591\n",
              "2020-05-01     7183.951722\n",
              "2020-06-01     6253.826204\n",
              "2020-07-01     6510.626429\n",
              "2020-08-01     6359.013896\n",
              "2020-09-01     6253.545610\n",
              "2020-10-01     6208.162330\n",
              "2020-11-01     5942.586564\n",
              "2020-12-01     5979.881348\n",
              "Freq: MS, Name: SARIMA(0,1,0)(2,0,0,12) Predictions, dtype: float64"
            ]
          },
          "metadata": {
            "tags": []
          },
          "execution_count": 40
        }
      ]
    },
    {
      "cell_type": "code",
      "metadata": {
        "colab": {
          "base_uri": "https://localhost:8080/",
          "height": 402
        },
        "id": "4Y_L2t9voWM8",
        "outputId": "06cf4bed-8b04-4b0f-fde0-c8664120453b"
      },
      "source": [
        "# Plot predictions against known values\r\n",
        "title = 'Weighted price over time'\r\n",
        "ylabel='Weighted_Price'\r\n",
        "xlabel=''\r\n",
        "\r\n",
        "ax = test.plot(legend=True,figsize=(12,6),title=title)\r\n",
        "predictions.plot(legend=True)\r\n",
        "ax.autoscale(axis='x',tight=True)\r\n",
        "ax.set(xlabel=xlabel, ylabel=ylabel);"
      ],
      "execution_count": 30,
      "outputs": [
        {
          "output_type": "display_data",
          "data": {
            "image/png": "[encoded data removed]",
            "text/plain": [
              "<Figure size 864x432 with 1 Axes>"
            ]
          },
          "metadata": {
            "tags": [],
            "needs_background": "light"
          }
        }
      ]
    },
    {
      "cell_type": "code",
      "metadata": {
        "colab": {
          "base_uri": "https://localhost:8080/"
        },
        "id": "-qdAQa7homXJ",
        "outputId": "b1ead2da-5878-4a7e-c193-8d23f2059c4c"
      },
      "source": [
        "from statsmodels.tools.eval_measures import rmse\r\n",
        "\r\n",
        "error = rmse(test, predictions)\r\n",
        "print(f'SARIMA(0,1,3)(1,0,1,12) RMSE Error: {error:11.10}')"
      ],
      "execution_count": 31,
      "outputs": [
        {
          "output_type": "stream",
          "text": [
            "SARIMA(0,1,3)(1,0,1,12) RMSE Error:  5182.72918\n"
          ],
          "name": "stdout"
        }
      ]
    },
    {
      "cell_type": "code",
      "metadata": {
        "colab": {
          "base_uri": "https://localhost:8080/",
          "height": 442
        },
        "id": "h35RmTMqrUuW",
        "outputId": "a00b38b1-95f4-4dfc-8f02-f168038c2d76"
      },
      "source": [
        "pred = results.get_prediction(start=pd.to_datetime('2011-12-01'), end=pd.to_datetime('2020-12-31'), dynamic=False)\r\n",
        "pred_ci = pred.conf_int()\r\n",
        "ax = y['2011':].plot(label='observed')\r\n",
        "pred.predicted_mean.plot(color = 'r', ax=ax, label='Forecast', alpha=.7, figsize=(14, 7))\r\n",
        "ax.fill_between(pred_ci.index,\r\n",
        "                pred_ci.iloc[:, 0],\r\n",
        "                pred_ci.iloc[:, 1], color='k', alpha=.2)\r\n",
        "ax.set_xlabel('Date')\r\n",
        "ax.set_ylabel('Weighted_price')\r\n",
        "plt.legend()\r\n",
        "plt.show()"
      ],
      "execution_count": 41,
      "outputs": [
        {
          "output_type": "display_data",
          "data": {
            "image/png": "[encoded data removed]",
            "text/plain": [
              "<Figure size 1008x504 with 1 Axes>"
            ]
          },
          "metadata": {
            "tags": [],
            "needs_background": "light"
          }
        }
      ]
    }
  ]
}